{
  "nbformat": 4,
  "nbformat_minor": 0,
  "metadata": {
    "colab": {
      "name": "ZestaW1.ipynb",
      "provenance": [],
      "collapsed_sections": []
    },
    "kernelspec": {
      "name": "python3",
      "display_name": "Python 3"
    }
  },
  "cells": [
    {
      "cell_type": "code",
      "metadata": {
        "id": "MzkBmep6sHeD",
        "outputId": "02d571d1-a535-48cb-a2a3-dfae00cb9933",
        "colab": {
          "base_uri": "https://localhost:8080/",
          "height": 34
        }
      },
      "source": [
        "#zadanie1\n",
        "\n",
        "import pandas as pd\n",
        "import numpy as np\n",
        "import matplotlib.pyplot as pyplot\n",
        "\n",
        "with open('train.tsv', 'rb') as my_data:\n",
        "    df = pd.read_csv(my_data, names=['A', 'B', 'C', 'D', 'E', 'F'], sep='\\t')\n",
        "#oblicz srednią cene mieszkania\n",
        "    srednia_cena = round(np.mean(df['A']), 0)\n",
        "    print(srednia_cena)\n",
        "#zapisz cene do pliku\n",
        "    f = open('out0.csv ', \"w\")\n",
        "    f.write(str(srednia_cena))"
      ],
      "execution_count": null,
      "outputs": [
        {
          "output_type": "stream",
          "text": [
            "342.0\n"
          ],
          "name": "stdout"
        }
      ]
    },
    {
      "cell_type": "code",
      "metadata": {
        "id": "Bx43pyZ9vfnv",
        "outputId": "67eeac28-e419-4389-ec01-f906349317a6",
        "colab": {
          "base_uri": "https://localhost:8080/",
          "height": 34
        }
      },
      "source": [
        "#zadanie2\n",
        "    \n",
        "\n",
        "with open('train.tsv', 'rb') as my_data:\n",
        "    df = pd.read_csv(my_data, names=['A', 'B', 'C', 'D', 'E', 'F'], sep='\\t')\n",
        "  #oblicz cene za metr kwadratowy\n",
        "    sq_metr = df['A']/df['C']\n",
        "\n",
        "    df['metr'] = sq_metr\n",
        "  #oblicz średnią cene za metr kwadratowy\n",
        "    sred_metr = np.mean(df['metr'])\n",
        "    print(sred_metr)\n",
        "  # wybierz oferty, gdzie liczba pokoi >= 3 i cena jest niższa od średniej ceny za metr kwadratowy\n",
        "    conditions = (df[(df['B'] >=3) & (df['metr'] < sred_metr)])\n",
        "  #zapisz wyniki do pliku out1.csv \n",
        "    conditions.to_csv('out1.csv', columns=['B', 'A', 'metr'], header=False, sep='\\t')"
      ],
      "execution_count": null,
      "outputs": [
        {
          "output_type": "stream",
          "text": [
            "6.252517254667304\n"
          ],
          "name": "stdout"
        }
      ]
    },
    {
      "cell_type": "code",
      "metadata": {
        "id": "nDdSD2Sz0gf-"
      },
      "source": [
        "#zadanie3\n",
        "\n",
        "with open('train.tsv', 'rb') as my_data, open('description.csv') as description_data:\n",
        "    df = pd.read_csv(my_data, names=['A', 'B', 'C', 'D', 'E', 'F'], sep='\\t')\n",
        "    df2 = pd.read_csv(description_data)\n",
        "\n",
        "    result = df.join(df2.set_index('liczba'), on='D')\n",
        "    result.to_csv('out2.csv', header=False, sep='\\t')\n",
        "    "
      ],
      "execution_count": null,
      "outputs": []
    },
    {
      "cell_type": "code",
      "metadata": {
        "id": "2ZbEYjA58fVW"
      },
      "source": [
        "# Zadanie 4\n",
        "    \n",
        "with open('survey_results_public.csv', 'rb') as survey_data:\n",
        "    df = pd.read_csv(survey_data, usecols=['ConvertedComp', 'CompTotal', 'SocialMedia'])\n",
        "\n",
        "    \n",
        "    df.dropna(inplace=True)\n",
        " # Unikalne wartości kolumny 'ConvertedComp'\n",
        "    column_values1 = df[['ConvertedComp']].values.ravel()\n",
        "    unique_values = pd.unique(column_values1)\n",
        "\n",
        "  #Unikalne wartości kolumny 'CompTotal'\n",
        "    column_values2 = df[['CompTotal']].values.ravel()\n",
        "    unique_values2 = pd.unique(column_values2)\n",
        "    df = df.astype({'ConvertedComp': 'int64', 'CompTotal': 'int64'})"
      ],
      "execution_count": null,
      "outputs": []
    },
    {
      "cell_type": "code",
      "metadata": {
        "id": "f8syMjgw9cJq",
        "outputId": "5e8de9b1-acfb-424d-fa71-2b33dbfd99c5",
        "colab": {
          "base_uri": "https://localhost:8080/",
          "height": 814
        }
      },
      "source": [
        "#Zadanie 5\n",
        "    #Wykres dla kolumn: ConvertedComp, CompTotal\n",
        "pyplot.plot(df['ConvertedComp'], df['CompTotal'], 'ro', markersize=0.5)\n",
        "pyplot.xlabel('ConvertedComp')\n",
        "pyplot.ylabel('CompTotal')\n",
        "pyplot.show()\n",
        "\n",
        "    #Wykres dla kolumn: CompTotal, ConvertedComp, gdy wartości dla SocialMedia = Yes\n",
        "result = (df[(df['SocialMedia'] == 'Yes')])\n",
        "pyplot.plot(result['ConvertedComp'], result['CompTotal'], 'ro', markersize=0.5)\n",
        "pyplot.xlabel('ConvertedComp')\n",
        "pyplot.ylabel('CompTotal')\n",
        "pyplot.show()\n",
        "\n",
        "    ##Wykres dla kolumn: CompTotal, ConvertedComp, gdy wartości dla BetterLife = No\n",
        "result2 = (df[(df['SocialMedia'] == 'No')])\n",
        "pyplot.plot(result2['ConvertedComp'], result2['CompTotal'], 'ro', markersize=0.5)\n",
        "pyplot.xlabel('ConvertedComp')\n",
        "pyplot.ylabel('CompTotal')\n",
        "pyplot.show()"
      ],
      "execution_count": null,
      "outputs": [
        {
          "output_type": "display_data",
          "data": {
            "image/png": "[encoded data removed]",
            "text/plain": [
              "<Figure size 432x288 with 1 Axes>"
            ]
          },
          "metadata": {
            "tags": [],
            "needs_background": "light"
          }
        },
        {
          "output_type": "display_data",
          "data": {
            "image/png": "[encoded data removed]",
            "text/plain": [
              "<Figure size 432x288 with 1 Axes>"
            ]
          },
          "metadata": {
            "tags": [],
            "needs_background": "light"
          }
        },
        {
          "output_type": "display_data",
          "data": {
            "image/png": "[encoded data removed]",
            "text/plain": [
              "<Figure size 432x288 with 1 Axes>"
            ]
          },
          "metadata": {
            "tags": [],
            "needs_background": "light"
          }
        }
      ]
    }
  ]
}